{
  "nbformat": 4,
  "nbformat_minor": 0,
  "metadata": {
    "colab": {
      "provenance": []
    },
    "kernelspec": {
      "name": "python3",
      "display_name": "Python 3"
    },
    "language_info": {
      "name": "python"
    }
  },
  "cells": [
    {
      "cell_type": "code",
      "execution_count": null,
      "metadata": {
        "id": "GzCgr1DR2QBM",
        "colab": {
          "base_uri": "https://localhost:8080/",
          "height": 70
        },
        "outputId": "1dae4c0e-3544-40dd-dd4c-ebf9424e64c1"
      },
      "outputs": [
        {
          "output_type": "execute_result",
          "data": {
            "text/plain": [
              "'\\nThis Python file contains the object-oriented programming version of the following problem statement.\\n\\nGiven known information about the students of a University at the end of an academic year, namely personal information\\nsuch as unique indetifiers and their grades, this app is intended to help with the good record keeping for the admin\\nteams. While building this app, we are aiming for the following utilities:\\n    - list all students;\\n    - identify the passing and failing students;\\n    - given a certain grade threshold, identify the students below and above that grade;\\n    - show the students that have obtained a bursaries;\\n    - order the failing students based on the number of resits;\\n    - order the students based on the grade from a certain class;\\n\\nNote: The output of the programm will be easily writtable and readable from txt files. \\nNote: All exceptions will be correctly raised with a friendly user readable message.\\n'"
            ],
            "application/vnd.google.colaboratory.intrinsic+json": {
              "type": "string"
            }
          },
          "metadata": {},
          "execution_count": 5
        }
      ],
      "source": [
        "'''\n",
        "This Python file contains the object-oriented programming version of the following problem statement.\n",
        "\n",
        "Given known information about the students of a University at the end of an academic year, namely personal information\n",
        "such as unique indetifiers and their grades, this app is intended to help with the good record keeping for the admin\n",
        "teams. While building this app, we are aiming for the following utilities:\n",
        "    - list all students;\n",
        "    - identify the passing and failing students;\n",
        "    - given a certain grade threshold, identify the students below and above that grade;\n",
        "    - show the students that have obtained a bursaries;\n",
        "    - order the failing students based on the number of resits;\n",
        "    - order the students based on the grade from a certain class;\n",
        "\n",
        "Note: All exceptions will be correctly raised with a friendly user readable message.\n",
        "'''"
      ]
    },
    {
      "cell_type": "code",
      "source": [
        "# import packages\n",
        "from datetime import date"
      ],
      "metadata": {
        "id": "CL1MsCGH2Ruv"
      },
      "execution_count": 1,
      "outputs": []
    },
    {
      "cell_type": "code",
      "source": [
        "# create a class that will manipulate the students in a particular year of study\n",
        "class Year:\n",
        "    # create instance variables with year, students, and courses\n",
        "    def __init__(self, year):\n",
        "        self.year = year    # integer value for the year\n",
        "        self.students = []  # list with students\n",
        "        self.courses = []   # list with courses taken\n",
        "    \n",
        "\n",
        "    # add each student or multiple students created with Student class to the list of students \n",
        "    def add_student(self, student):\n",
        "        # add a Student object to students\n",
        "        self.students.append(student)\n",
        "    \n",
        "    def add_students(self, students):\n",
        "        # add multiple students\n",
        "        for student in students:\n",
        "            self.add_student(student)\n",
        "    \n",
        "\n",
        "    # display all students in the academic year in alphabetical order\n",
        "    def showStudents(self, bursaries_only = False):\n",
        "        if bursaries_only:\n",
        "          students = [st for st in self.students if st.bursary]\n",
        "        else:\n",
        "          students = self.students\n",
        "\n",
        "        for student in sorted(students, key=lambda x: x.full_name):\n",
        "            print(str(student))\n",
        "    \n",
        "\n",
        "    # display all students that have to do resits and how many\n",
        "    def showResits(self):\n",
        "        students = [st for st in self.students if st.resits]\n",
        "\n",
        "        for student in sorted(students, key=lambda x: x.resits):\n",
        "            print(f'{str(student)} {student.resits}')\n",
        "    \n",
        "\n",
        "    # display all students that have to do resits and how many\n",
        "    def bestPerformers(self, course):\n",
        "        students = [st for st in self.students if st.resits]\n",
        "\n",
        "        for student, final in sorted(course.final_marks.items(), key=lambda item: item[1], reverse = True):\n",
        "            print(f'{str(student)} {final}')\n",
        "    \n",
        "\n",
        "    def add_course(self, course):\n",
        "        # add a Course object to courses\n",
        "        self.courses.append(course)\n",
        "    \n",
        "    def add_courses(self, courses):\n",
        "        # add multiple courses\n",
        "        for course in courses:\n",
        "            self.add_course(course)\n",
        "    \n",
        "    \n",
        "    def __repr__(self):\n",
        "        return f'Year(\"{self.year}\")'"
      ],
      "metadata": {
        "id": "BD_f1isD3n73"
      },
      "execution_count": 2,
      "outputs": []
    },
    {
      "cell_type": "code",
      "source": [
        "class Student:\n",
        "    # create instance variables with first name, last name, bursary, disability as private, and courses\n",
        "    def __init__(self, first_name, last_name, bursary = False, disability = False):\n",
        "        self.first_name = first_name\n",
        "        self.last_name = last_name\n",
        "        self.bursary = bursary\n",
        "        self.__disability = disability  # private method to protect the information from being accessed\n",
        "        self.courses = []   # list of courses for each student\n",
        "    \n",
        "    def join_course(self, course):\n",
        "        # add course to student\n",
        "\n",
        "        # avoid enrolling to same course twice\n",
        "        if course not in self.courses:\n",
        "            # add student to course\n",
        "            course.add_grades(self)\n",
        "            self.courses.append(course)\n",
        "    \n",
        "\n",
        "    @property\n",
        "    def full_name(self):\n",
        "        return self.last_name + ' ' + self.first_name\n",
        "    \n",
        "    @property\n",
        "    def resits(self):\n",
        "        return sum(course.passed[self] == 'FAIL' for course in self.courses)\n",
        "    \n",
        "    def __str__(self):\n",
        "        return self.full_name\n",
        "    \n",
        "    def __repr__(self):\n",
        "        return f'Student(\"{self.first_name}\",\"{self.last_name}\")'"
      ],
      "metadata": {
        "id": "QoMgDn5h35KA"
      },
      "execution_count": 3,
      "outputs": []
    },
    {
      "cell_type": "code",
      "source": [
        "class Course:\n",
        "    # create instance variables with name, assignments, all_grades\n",
        "    def __init__(self, name, assignments):\n",
        "        self.name = name\n",
        "        self.assignments = assignments\n",
        "        self.all_grades = {}    # dictionary (student:grade)\n",
        "    \n",
        "    def add_grades(self,student):\n",
        "        # collect marks for each assignment\n",
        "        assignment_marks = {}\n",
        "\n",
        "        for assignment in self.assignments:\n",
        "            value = int(input(f'{assignment} Grade: '))\n",
        "            assignment_marks[assignment] = value\n",
        "\n",
        "        # add marks to student\n",
        "        self.all_grades[student] = assignment_marks\n",
        "    \n",
        "    @property\n",
        "    def final_marks(self):\n",
        "        # get final (average) grade for each student \n",
        "        return {student: sum(assignment_marks.values())/len(assignment_marks)\n",
        "                for student, assignment_marks in self.all_grades.items()}\n",
        "\n",
        "    @property\n",
        "    def passed(self):\n",
        "        # categorise each student as pass or failed \n",
        "        return {student: ('PASS' if final >= 5 else 'FAIL')\n",
        "                for student, final in self.final_marks.items()}\n",
        "    \n",
        "    # show students who passed and failed in alphabetical order\n",
        "    def show_passed_and_failed(self):\n",
        "        passed = []\n",
        "        failed = []\n",
        "\n",
        "        # check whether a student passed or failed and append them to \n",
        "          # their corresponding lists\n",
        "        for student, result in self.passed.items():\n",
        "            if result == 'PASS':\n",
        "                passed.append(student)\n",
        "            elif result == 'FAIL':\n",
        "                failed.append(student)\n",
        "            else:\n",
        "                raise NotImplementedError\n",
        "        \n",
        "        # order students who passed\n",
        "        for student in sorted(passed, key=lambda x: x.full_name):\n",
        "            print(f'{str(student)} PASS')\n",
        "        \n",
        "        print()   # empty row\n",
        "\n",
        "        # order students who failed\n",
        "        for student in sorted(failed, key=lambda x: x.full_name):\n",
        "            print(f'{str(student)} FAIL')\n",
        "\n",
        "\n",
        "    def threshold(self, grade):\n",
        "        above = []  # or equal\n",
        "        below = []\n",
        "\n",
        "        for student, final in self.final_marks.items():\n",
        "            if final >= grade:\n",
        "                above.append(student)\n",
        "            else:\n",
        "                below.append(student)\n",
        "        \n",
        "        for student in sorted(above, key=lambda x: x.full_name):\n",
        "            print(f'{str(student)} >={grade}')\n",
        "        \n",
        "        print()   # empty row\n",
        "\n",
        "        for student in sorted(below, key=lambda x: x.full_name):\n",
        "            print(f'{str(student)} <{grade}')\n",
        "    \n",
        "\n",
        "    def __repr__(self):\n",
        "        return f'Course(\"{self.name}\")'"
      ],
      "metadata": {
        "id": "cgiW4D8_FPa7"
      },
      "execution_count": 4,
      "outputs": []
    },
    {
      "cell_type": "code",
      "source": [
        "ana = Student('Ana', 'Popescu')\n",
        "george = Student('George', 'Romanescu')\n",
        "ion = Student('Ion', 'Axenie', bursary = False)\n",
        "maria = Student('Maria', 'Ivrim', bursary = True)\n",
        "\n",
        "maths = Course('Mathematics', assignments = ['Homework 1','Homework 2','Exam'])\n",
        "compsci = Course('Computer Science', assignments = ['Project 1','Project 2','Project 3'])\n",
        "\n",
        "this_year = Year(2022)\n",
        "this_year.add_students([ana, george, ion, maria])\n",
        "this_year.add_courses([maths, compsci])"
      ],
      "metadata": {
        "id": "djSeIHTq7uUq"
      },
      "execution_count": 5,
      "outputs": []
    },
    {
      "cell_type": "code",
      "source": [
        "this_year.students"
      ],
      "metadata": {
        "colab": {
          "base_uri": "https://localhost:8080/"
        },
        "id": "3nv1GwQYFOub",
        "outputId": "9db7599c-7704-4b4b-e097-9a06f83a52be"
      },
      "execution_count": 6,
      "outputs": [
        {
          "output_type": "execute_result",
          "data": {
            "text/plain": [
              "[Student(\"Ana\",\"Popescu\"),\n",
              " Student(\"George\",\"Romanescu\"),\n",
              " Student(\"Ion\",\"Axenie\"),\n",
              " Student(\"Maria\",\"Ivrim\")]"
            ]
          },
          "metadata": {},
          "execution_count": 6
        }
      ]
    },
    {
      "cell_type": "code",
      "source": [
        "this_year.courses"
      ],
      "metadata": {
        "colab": {
          "base_uri": "https://localhost:8080/"
        },
        "id": "KDkB7xwXMHlY",
        "outputId": "f6e1c4c8-89b5-4ab6-a35a-fde19ab3581b"
      },
      "execution_count": 7,
      "outputs": [
        {
          "output_type": "execute_result",
          "data": {
            "text/plain": [
              "[Course(\"Mathematics\"), Course(\"Computer Science\")]"
            ]
          },
          "metadata": {},
          "execution_count": 7
        }
      ]
    },
    {
      "cell_type": "code",
      "source": [
        "# list all students;\n",
        "this_year.showStudents()"
      ],
      "metadata": {
        "colab": {
          "base_uri": "https://localhost:8080/"
        },
        "id": "KCo5P0A-OdJE",
        "outputId": "a80142f8-b7b5-4009-e130-abd902649c05"
      },
      "execution_count": 8,
      "outputs": [
        {
          "output_type": "stream",
          "name": "stdout",
          "text": [
            "Axenie Ion\n",
            "Ivrim Maria\n",
            "Popescu Ana\n",
            "Romanescu George\n"
          ]
        }
      ]
    },
    {
      "cell_type": "code",
      "source": [
        "# show the students that have obtained a bursary;\n",
        "this_year.showStudents(bursaries_only=True)"
      ],
      "metadata": {
        "colab": {
          "base_uri": "https://localhost:8080/"
        },
        "id": "iweVc9RhPI10",
        "outputId": "50dffbdb-c208-4d71-80e3-8ea2def70e5d"
      },
      "execution_count": 9,
      "outputs": [
        {
          "output_type": "stream",
          "name": "stdout",
          "text": [
            "Ivrim Maria\n"
          ]
        }
      ]
    },
    {
      "cell_type": "code",
      "source": [
        "ana.join_course(maths)    # grades: 3,4,5\n",
        "george.join_course(maths) # grades: 7,8,9\n",
        "ion.join_course(maths)    # grades: 6,7,7\n",
        "maria.join_course(maths)  # grades: 10,10,9"
      ],
      "metadata": {
        "colab": {
          "base_uri": "https://localhost:8080/"
        },
        "id": "zNBR6xc6ZnLt",
        "outputId": "3c706d27-3556-455d-ed6c-3fe97b07c421"
      },
      "execution_count": 10,
      "outputs": [
        {
          "name": "stdout",
          "output_type": "stream",
          "text": [
            "Homework 1 Grade: 3\n",
            "Homework 2 Grade: 4\n",
            "Exam Grade: 5\n",
            "Homework 1 Grade: 7\n",
            "Homework 2 Grade: 8\n",
            "Exam Grade: 9\n",
            "Homework 1 Grade: 6\n",
            "Homework 2 Grade: 7\n",
            "Exam Grade: 7\n",
            "Homework 1 Grade: 10\n",
            "Homework 2 Grade: 10\n",
            "Exam Grade: 9\n"
          ]
        }
      ]
    },
    {
      "cell_type": "code",
      "source": [
        "# identify the passing and failing students;\n",
        "maths.show_passed_and_failed()"
      ],
      "metadata": {
        "colab": {
          "base_uri": "https://localhost:8080/"
        },
        "id": "M9Z3LEE7aMJ_",
        "outputId": "29256e51-36fa-4788-d994-52c2b03b0037"
      },
      "execution_count": 11,
      "outputs": [
        {
          "output_type": "stream",
          "name": "stdout",
          "text": [
            "Axenie Ion PASS\n",
            "Ivrim Maria PASS\n",
            "Romanescu George PASS\n",
            "\n",
            "Popescu Ana FAIL\n"
          ]
        }
      ]
    },
    {
      "cell_type": "code",
      "source": [
        "# given a certain grade threshold, identify the students below and above that grade;\n",
        "maths.threshold(9)"
      ],
      "metadata": {
        "colab": {
          "base_uri": "https://localhost:8080/"
        },
        "id": "lferoTgIb5Xu",
        "outputId": "0eae160d-163e-4385-b401-5fd9e507ed4b"
      },
      "execution_count": 14,
      "outputs": [
        {
          "output_type": "stream",
          "name": "stdout",
          "text": [
            "Ivrim Maria >=9\n",
            "\n",
            "Axenie Ion <9\n",
            "Popescu Ana <9\n",
            "Romanescu George <9\n"
          ]
        }
      ]
    },
    {
      "cell_type": "code",
      "source": [
        "ana.join_course(compsci)      # grades: 4,4,6\n",
        "george.join_course(compsci)   # grades: 6,9,8\n",
        "ion.join_course(compsci)      # grades: 3,3,2\n",
        "maria.join_course(compsci)    # grades: 9,9,10"
      ],
      "metadata": {
        "colab": {
          "base_uri": "https://localhost:8080/"
        },
        "id": "JK_N0SpcdULu",
        "outputId": "78625c15-b8d0-4d18-c43c-33691b97fbb7"
      },
      "execution_count": 15,
      "outputs": [
        {
          "name": "stdout",
          "output_type": "stream",
          "text": [
            "Project 1 Grade: 4\n",
            "Project 2 Grade: 4\n",
            "Project 3 Grade: 6\n",
            "Project 1 Grade: 6\n",
            "Project 2 Grade: 9\n",
            "Project 3 Grade: 8\n",
            "Project 1 Grade: 3\n",
            "Project 2 Grade: 3\n",
            "Project 3 Grade: 2\n",
            "Project 1 Grade: 9\n",
            "Project 2 Grade: 9\n",
            "Project 3 Grade: 10\n"
          ]
        }
      ]
    },
    {
      "cell_type": "code",
      "source": [
        "compsci.show_passed_and_failed()"
      ],
      "metadata": {
        "colab": {
          "base_uri": "https://localhost:8080/"
        },
        "id": "mX9SwVfWdw2W",
        "outputId": "83b32116-94e8-48c0-f189-a097ad976859"
      },
      "execution_count": 18,
      "outputs": [
        {
          "output_type": "stream",
          "name": "stdout",
          "text": [
            "Ivrim Maria PASS\n",
            "Romanescu George PASS\n",
            "\n",
            "Axenie Ion FAIL\n",
            "Popescu Ana FAIL\n"
          ]
        }
      ]
    },
    {
      "cell_type": "code",
      "source": [
        "# - order the failing students based on the number of resits;\n",
        "this_year.showResits()"
      ],
      "metadata": {
        "colab": {
          "base_uri": "https://localhost:8080/"
        },
        "id": "120KDUNBecAi",
        "outputId": "09d40c53-1453-4bbd-a1c8-a48e1cc6c87a"
      },
      "execution_count": 19,
      "outputs": [
        {
          "output_type": "stream",
          "name": "stdout",
          "text": [
            "Axenie Ion 1\n",
            "Popescu Ana 2\n"
          ]
        }
      ]
    },
    {
      "cell_type": "code",
      "source": [
        "# order the students based on the grade from a certain class;\n",
        "this_year.bestPerformers(maths)"
      ],
      "metadata": {
        "colab": {
          "base_uri": "https://localhost:8080/"
        },
        "id": "uA2Uf3zHe7i5",
        "outputId": "38042eab-2990-430d-c97d-2a6e736d27ba"
      },
      "execution_count": 20,
      "outputs": [
        {
          "output_type": "stream",
          "name": "stdout",
          "text": [
            "Ivrim Maria 9.666666666666666\n",
            "Romanescu George 8.0\n",
            "Axenie Ion 6.666666666666667\n",
            "Popescu Ana 4.0\n"
          ]
        }
      ]
    },
    {
      "cell_type": "code",
      "source": [
        "this_year.bestPerformers(compsci)"
      ],
      "metadata": {
        "colab": {
          "base_uri": "https://localhost:8080/"
        },
        "id": "EFQY2O8v-cX5",
        "outputId": "1f1eeff5-0f48-45ba-f222-47853c094f70"
      },
      "execution_count": 21,
      "outputs": [
        {
          "output_type": "stream",
          "name": "stdout",
          "text": [
            "Ivrim Maria 9.333333333333334\n",
            "Romanescu George 7.666666666666667\n",
            "Popescu Ana 4.666666666666667\n",
            "Axenie Ion 2.6666666666666665\n"
          ]
        }
      ]
    }
  ]
}